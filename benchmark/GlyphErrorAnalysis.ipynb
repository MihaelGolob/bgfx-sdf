{
 "cells": [
  {
   "cell_type": "markdown",
   "metadata": {},
   "source": [
    "## Glyph error analysis\n",
    "\n",
    "The `GlyphErrorBenchmark.cpp` creates a number of different rendered glyph textures into `src/rendered_glyph_textures` with different parameters (different code points, scales, original sizes etc.)\n",
    "\n",
    "In this notebook I categorize these images and calculate the errors in each of them to figure out which method performs the best"
   ]
  },
  {
   "cell_type": "code",
   "execution_count": 9,
   "metadata": {},
   "outputs": [],
   "source": [
    "# libraries\n",
    "from enum import Enum\n",
    "import os\n",
    "from PIL import Image"
   ]
  },
  {
   "cell_type": "code",
   "execution_count": 10,
   "metadata": {},
   "outputs": [],
   "source": [
    "# type definitions\n",
    "class GlyphType(Enum):\n",
    "    Original = 0\n",
    "    Bitmap = 1\n",
    "    SdfFromBitmap = 2\n",
    "    SdfFromVector = 3\n",
    "    Msdf = 4\n",
    "    MsdfOriginal = 5\n",
    "\n",
    "class Glyph:\n",
    "    def __init__(self, glyphType, code_point, original_size, scale, img):\n",
    "        self.glyphType = glyphType\n",
    "        self.code_point = code_point\n",
    "        self.original_size = original_size\n",
    "        self.scale = scale\n",
    "        self.img = img\n",
    "\n",
    "    def __str__(self):\n",
    "        return self.glyphType.name + ' ' + self.code_point + ' ' + str(self.original_size) + ' ' + str(self.scale) + ' ' + self.img.format\n",
    "\n",
    "    def isComparable(self, other):\n",
    "        return self.scale == other.scale and self.original_size == other.original_size and self.code_point == other.code_point"
   ]
  },
  {
   "cell_type": "code",
   "execution_count": 11,
   "metadata": {},
   "outputs": [],
   "source": [
    "# load and filter all the glyphs\n",
    "directory = '../src/rendered_glyph_textures'\n",
    "\n",
    "truth_glyphs = []\n",
    "glyphs = []\n",
    "\n",
    "for filename in os.listdir(directory):\n",
    "    if filename.endswith('.png'):\n",
    "        info = filename.split('_')\n",
    "        type = GlyphType(int(info[0][0]))\n",
    "        code_point = info[1]\n",
    "        original_size = int(info[2])\n",
    "        scale = float(info[3])\n",
    "        img = Image.open(os.path.join(directory, filename))\n",
    "\n",
    "        if type == GlyphType.Original:\n",
    "            truth_glyphs.append(Glyph(type, code_point, original_size, scale, img))\n",
    "        else:\n",
    "            glyphs.append(Glyph(type, code_point, original_size, scale, img))"
   ]
  },
  {
   "cell_type": "code",
   "execution_count": 22,
   "metadata": {},
   "outputs": [],
   "source": [
    "def calculateGlyphError(truth, glyph):\n",
    "    if not truth.isComparable(glyph):\n",
    "        raise Exception('Glyphs are not comparable: ' + str(truth) + ' ' + str(glyph))\n"
   ]
  },
  {
   "cell_type": "code",
   "execution_count": 23,
   "metadata": {},
   "outputs": [
    {
     "name": "stdout",
     "output_type": "stream",
     "text": [
      "Number of glyphs: 10\n",
      "Number of truth glyphs: 2\n",
      "truth size: (467, 586), glyph size: (457, 589), diff x: 10, diff y: -3\n",
      "truth size: (326, 409), glyph size: (320, 409), diff x: 6, diff y: 0\n",
      "truth size: (467, 586), glyph size: (467, 584), diff x: 0, diff y: 2\n",
      "truth size: (326, 409), glyph size: (326, 409), diff x: 0, diff y: 0\n",
      "truth size: (467, 586), glyph size: (466, 585), diff x: 1, diff y: 1\n",
      "truth size: (326, 409), glyph size: (326, 409), diff x: 0, diff y: 0\n",
      "truth size: (467, 586), glyph size: (466, 585), diff x: 1, diff y: 1\n",
      "truth size: (326, 409), glyph size: (326, 409), diff x: 0, diff y: 0\n",
      "truth size: (467, 586), glyph size: (461, 578), diff x: 6, diff y: 8\n",
      "truth size: (326, 409), glyph size: (323, 405), diff x: 3, diff y: 4\n"
     ]
    }
   ],
   "source": [
    "def findTruthForGlyph(glyph):\n",
    "    for truth in truth_glyphs:\n",
    "        if truth.isComparable(glyph):\n",
    "            return truth\n",
    "    return None\n",
    "\n",
    "print('Number of glyphs: ' + str(len(glyphs)))\n",
    "print('Number of truth glyphs: ' + str(len(truth_glyphs)))\n",
    "# calculate all the glyph errors\n",
    "for glyph in glyphs:\n",
    "    truth = findTruthForGlyph(glyph)\n",
    "    calculateGlyphError(truth, glyph)"
   ]
  }
 ],
 "metadata": {
  "kernelspec": {
   "display_name": "Python 3",
   "language": "python",
   "name": "python3"
  },
  "language_info": {
   "codemirror_mode": {
    "name": "ipython",
    "version": 3
   },
   "file_extension": ".py",
   "mimetype": "text/x-python",
   "name": "python",
   "nbconvert_exporter": "python",
   "pygments_lexer": "ipython3",
   "version": "3.11.5"
  }
 },
 "nbformat": 4,
 "nbformat_minor": 2
}
