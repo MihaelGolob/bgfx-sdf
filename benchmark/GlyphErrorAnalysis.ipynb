{
 "cells": [
  {
   "cell_type": "markdown",
   "metadata": {},
   "source": [
    "## Glyph error analysis\n",
    "\n",
    "The `GlyphErrorBenchmark.cpp` creates a number of different rendered glyph textures into `src/rendered_glyph_textures` with different parameters (different code points, scales, original sizes etc.)\n",
    "\n",
    "In this notebook I categorize these images and calculate the errors in each of them to figure out which method performs the best"
   ]
  },
  {
   "cell_type": "code",
   "execution_count": 118,
   "metadata": {},
   "outputs": [],
   "source": [
    "# libraries\n",
    "import os\n",
    "import math\n",
    "import numpy as np\n",
    "import matplotlib.pyplot as plt\n",
    "from enum import Enum\n",
    "from PIL import Image\n",
    "from PIL import ImageOps"
   ]
  },
  {
   "cell_type": "code",
   "execution_count": 111,
   "metadata": {},
   "outputs": [],
   "source": [
    "# type definitions\n",
    "class GlyphType(Enum):\n",
    "    Original = 0\n",
    "    Bitmap = 1\n",
    "    SdfFromBitmap = 2\n",
    "    SdfFromVector = 3\n",
    "    Msdf = 4\n",
    "    MsdfOriginal = 5\n",
    "\n",
    "class Glyph:\n",
    "    def __init__(self, glyphType, code_point, original_size, scale, img):\n",
    "        self.glyphType = glyphType\n",
    "        self.code_point = code_point\n",
    "        self.original_size = original_size\n",
    "        self.scale = scale\n",
    "        self.img = img\n",
    "        self.error = None\n",
    "\n",
    "    def __str__(self):\n",
    "        return self.glyphType.name + ' ' + self.code_point + ' ' + str(self.original_size) + ' ' + str(self.scale)\n",
    "\n",
    "    def isComparable(self, other):\n",
    "        return self.scale == other.scale and self.original_size == other.original_size and self.code_point == other.code_point"
   ]
  },
  {
   "cell_type": "code",
   "execution_count": 147,
   "metadata": {},
   "outputs": [
    {
     "name": "stdout",
     "output_type": "stream",
     "text": [
      "Found glyph: GlyphType.Original G 80 10.0 image size: (467, 586)\n",
      "Found glyph: GlyphType.Original G 80 7.0 image size: (326, 409)\n",
      "Found glyph: GlyphType.Bitmap G 80 10.0 image size: (457, 589)\n",
      "Found glyph: GlyphType.Bitmap G 80 7.0 image size: (320, 409)\n",
      "Found glyph: GlyphType.SdfFromBitmap G 80 10.0 image size: (467, 584)\n",
      "Found glyph: GlyphType.SdfFromBitmap G 80 7.0 image size: (326, 409)\n",
      "Found glyph: GlyphType.SdfFromVector G 80 10.0 image size: (466, 585)\n",
      "Found glyph: GlyphType.SdfFromVector G 80 7.0 image size: (326, 409)\n",
      "Found glyph: GlyphType.Msdf G 80 10.0 image size: (466, 585)\n",
      "Found glyph: GlyphType.Msdf G 80 7.0 image size: (326, 409)\n",
      "Found glyph: GlyphType.MsdfOriginal G 80 10.0 image size: (461, 578)\n",
      "Found glyph: GlyphType.MsdfOriginal G 80 7.0 image size: (323, 405)\n",
      "\n",
      "\u001b[96mNumber of glyphs: 10\n",
      "\u001b[96mNumber of glyph types: 5\n",
      "\u001b[96mNumber of truth glyphs: 2\n"
     ]
    }
   ],
   "source": [
    "# load and filter all the glyphs\n",
    "directory = '../src/rendered_glyph_textures'\n",
    "\n",
    "truth_glyphs = []\n",
    "glyphs = []\n",
    "\n",
    "for filename in os.listdir(directory):\n",
    "    if filename.endswith('.png'):\n",
    "        info = filename.split('_')\n",
    "        glyph_type = GlyphType(int(info[0][0]))\n",
    "        code_point = info[1]\n",
    "        original_size = int(info[2])\n",
    "        scale = float(info[3])\n",
    "        img = Image.open(os.path.join(directory, filename)).convert('L')\n",
    "        img.load()\n",
    "        \n",
    "        print('Found glyph: ' + str(glyph_type) + ' ' + str(code_point) + ' ' + str(original_size) + ' ' + str(scale) + ' image size: ' + str(img.size))\n",
    "\n",
    "        if glyph_type == GlyphType.Original:\n",
    "            truth_glyphs.append(Glyph(glyph_type, code_point, original_size, scale, img))\n",
    "        else:\n",
    "            glyphs.append(Glyph(glyph_type, code_point, original_size, scale, img))\n",
    "print()\n",
    "print('\\033[96m' + 'Number of glyphs: ' + str(len(glyphs)))\n",
    "print('\\033[96m' + 'Number of glyph types: ' + str(len(set([g.glyphType for g in glyphs]))))\n",
    "print('\\033[96m' + 'Number of truth glyphs: ' + str(len(truth_glyphs)))"
   ]
  },
  {
   "cell_type": "code",
   "execution_count": 150,
   "metadata": {},
   "outputs": [],
   "source": [
    "# a and b are tuples of (r, g, b, a)\n",
    "def errorFunction(a, b):\n",
    "    return abs(a - b)\n",
    "\n",
    "def calculateGlyphError(truth, glyph):\n",
    "    if not truth.isComparable(glyph):\n",
    "        raise Exception('Glyphs are not comparable: ' + str(truth) + ' ' + str(glyph))\n",
    "    \n",
    "    if truth.img.size != glyph.img.size:\n",
    "        raise Exception('Glyphs have different sizes: ' + str(truth.img.size) + ' ' + str(glyph.img.size))\n",
    "\n",
    "    # calculate error pixel by pixel\n",
    "    error = 0\n",
    "    for y in range(0, truth.img.height):\n",
    "        for x in range(0, truth.img.width):\n",
    "            truth_pixel = truth.img.getpixel((x, y))\n",
    "            glyph_pixel = glyph.img.getpixel((x, y))\n",
    "            error += errorFunction(truth_pixel, glyph_pixel)\n",
    "\n",
    "    # normalize error\n",
    "    error = error / (truth.img.width * truth.img.height)\n",
    "    return error;"
   ]
  },
  {
   "cell_type": "code",
   "execution_count": 151,
   "metadata": {},
   "outputs": [],
   "source": [
    "def findTruthForGlyph(glyph):\n",
    "    for truth in truth_glyphs:\n",
    "        if truth.isComparable(glyph):\n",
    "            return truth\n",
    "    return None\n",
    "\n",
    "# rendered glyphs might have different sizes so we want to \n",
    "# add some zero pixels so they are the same size as the truth\n",
    "# we need to be careful to keep them in the center\n",
    "def resizeGlyph(glyph_image, new_width, new_height):\n",
    "    delta_x = new_width - glyph_image.size[0]\n",
    "    delta_y = new_height - glyph_image.size[1]\n",
    "\n",
    "    # crop if needed\n",
    "    if delta_x < 0:\n",
    "        x_start = abs(delta_x) // 2\n",
    "        glyph_image = glyph_image.crop((x_start, 0, new_width + 1, glyph_image.size[1]))\n",
    "    if delta_y < 0:\n",
    "        y_start = abs(delta_y) // 2\n",
    "        glyph_image = glyph_image.crop((0, y_start, glyph_image.size[0], new_height + 1))\n",
    "\n",
    "    # pad if needed\n",
    "    if delta_x > 0:\n",
    "        padding_x = delta_x // 2\n",
    "        ob1 = delta_x % 2\n",
    "        glyph_image = ImageOps.expand(glyph_image, (padding_x + ob1, 0, padding_x, 0))\n",
    "    if delta_y > 0:\n",
    "        padding_y = delta_y // 2\n",
    "        ob1 = delta_y % 2\n",
    "        glyph_image = ImageOps.expand(glyph_image, (0, padding_y + ob1, 0, padding_y))\n",
    "    \n",
    "    return glyph_image\n",
    "\n",
    "# calculate all the glyph errors\n",
    "for glyph in glyphs:\n",
    "    truth = findTruthForGlyph(glyph)\n",
    "    glyph.img = resizeGlyph(glyph.img, truth.img.size[0], truth.img.size[1])\n",
    "    error = calculateGlyphError(truth, glyph)\n",
    "    glyph.error = error"
   ]
  },
  {
   "cell_type": "code",
   "execution_count": 115,
   "metadata": {},
   "outputs": [
    {
     "data": {
      "image/png": "[encoded data removed]",
      "text/plain": [
       "<Figure size 640x480 with 1 Axes>"
      ]
     },
     "metadata": {},
     "output_type": "display_data"
    }
   ],
   "source": [
    "errors = [glyph.error for glyph in glyphs]\n",
    "\n",
    "plt.bar([str(glyph) for glyph in glyphs], errors)\n",
    "\n",
    "plt.title('Error Values for Each Glyph')\n",
    "plt.xlabel('Glyph')\n",
    "plt.ylabel('Error Value')\n",
    "plt.xticks(rotation=90)\n",
    "\n",
    "# show the plot\n",
    "plt.tight_layout()\n",
    "plt.show()"
   ]
  },
  {
   "cell_type": "code",
   "execution_count": 184,
   "metadata": {},
   "outputs": [],
   "source": [
    "def showGlyphDiff(glyph):\n",
    "    glyph_img = glyph.img\n",
    "    truth_img = findTruthForGlyph(glyph).img\n",
    "\n",
    "    truth_img = ImageOps.colorize(truth_img, black='black', white='red')\n",
    "\n",
    "    # convert glyph_img to RGBA\n",
    "    glyph_img_rgba = np.array(glyph_img.convert('RGBA'))\n",
    "    truth_img_rgba = np.array(truth_img.convert('RGBA'))\n",
    "\n",
    "    # set alpha channel to 0 where pixel value is black \n",
    "    glyph_img_rgba[glyph_img_rgba[:, :, 0] == 0, 3] = 0\n",
    "    truth_img_rgba[truth_img_rgba[:, :, 0] == 0, 3] = 0\n",
    "\n",
    "    fig, ax = plt.subplots(1, 1, figsize=(5, 5))\n",
    "\n",
    "    background_color = '#020f24'\n",
    "    ax.set_facecolor(background_color)\n",
    "    fig.patch.set_facecolor(background_color)\n",
    "    ax.spines['bottom'].set_color(background_color)\n",
    "    ax.spines['top'].set_color(background_color)\n",
    "    ax.spines['right'].set_color(background_color)\n",
    "    ax.spines['left'].set_color(background_color)\n",
    "\n",
    "    ax.set_xticks([])\n",
    "    ax.set_yticks([])\n",
    "\n",
    "    ax.imshow(truth_img_rgba)\n",
    "    ax.imshow(glyph_img_rgba, alpha=0.8)\n",
    "\n",
    "    # show the plot\n",
    "    plt.tight_layout()\n",
    "    plt.show()"
   ]
  }
 ],
 "metadata": {
  "kernelspec": {
   "display_name": "Python 3",
   "language": "python",
   "name": "python3"
  },
  "language_info": {
   "codemirror_mode": {
    "name": "ipython",
    "version": 3
   },
   "file_extension": ".py",
   "mimetype": "text/x-python",
   "name": "python",
   "nbconvert_exporter": "python",
   "pygments_lexer": "ipython3",
   "version": "3.11.5"
  }
 },
 "nbformat": 4,
 "nbformat_minor": 2
}
